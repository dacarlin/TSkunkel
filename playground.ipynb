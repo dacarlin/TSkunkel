{
 "cells": [
  {
   "cell_type": "code",
   "execution_count": 2,
   "metadata": {
    "collapsed": false
   },
   "outputs": [],
   "source": [
    "from autoprotocol import Protocol\n",
    "\n",
    "p = Protocol()\n",
    "\n",
    "p.oligosynthesize?"
   ]
  },
  {
   "cell_type": "code",
   "execution_count": 3,
   "metadata": {
    "collapsed": true
   },
   "outputs": [],
   "source": [
    "map?"
   ]
  },
  {
   "cell_type": "code",
   "execution_count": 4,
   "metadata": {
    "collapsed": true
   },
   "outputs": [],
   "source": [
    "p.ref?"
   ]
  },
  {
   "cell_type": "code",
   "execution_count": 7,
   "metadata": {
    "collapsed": false
   },
   "outputs": [],
   "source": [
    "p.provision?"
   ]
  },
  {
   "cell_type": "code",
   "execution_count": 8,
   "metadata": {
    "collapsed": true
   },
   "outputs": [],
   "source": [
    "p.thermocycle?"
   ]
  },
  {
   "cell_type": "code",
   "execution_count": 10,
   "metadata": {
    "collapsed": false
   },
   "outputs": [
    {
     "name": "stdout",
     "output_type": "stream",
     "text": [
      "0 0 0 0\n",
      "1 0 1 0\n",
      "2 0 2 0\n",
      "3 0 3 0\n",
      "4 0 4 0\n",
      "5 0 5 0\n",
      "6 1 0 1\n",
      "7 1 1 1\n",
      "8 1 2 1\n",
      "9 1 3 1\n",
      "10 1 4 1\n",
      "11 1 5 1\n",
      "12 2 0 2\n",
      "13 2 1 2\n",
      "14 2 2 2\n",
      "15 2 3 2\n",
      "16 2 4 2\n",
      "17 2 5 2\n",
      "18 3 0 3\n",
      "19 3 1 3\n",
      "20 3 2 3\n",
      "21 3 3 3\n",
      "22 3 4 3\n",
      "23 3 5 3\n",
      "24 4 0 4\n",
      "25 4 1 4\n",
      "26 4 2 4\n",
      "27 4 3 4\n",
      "28 4 4 4\n",
      "29 4 5 4\n",
      "30 5 0 5\n",
      "31 5 1 5\n",
      "32 5 2 5\n",
      "33 5 3 5\n",
      "34 5 4 5\n",
      "35 5 5 5\n",
      "36 6 0 6\n",
      "37 6 1 6\n",
      "38 6 2 6\n",
      "39 6 3 6\n",
      "40 6 4 6\n",
      "41 6 5 6\n",
      "42 7 0 7\n",
      "43 7 1 7\n",
      "44 7 2 7\n",
      "45 7 3 7\n",
      "46 7 4 7\n",
      "47 7 5 7\n",
      "48 8 0 8\n",
      "49 8 1 8\n",
      "50 8 2 8\n",
      "51 8 3 8\n",
      "52 8 4 8\n",
      "53 8 5 8\n",
      "54 9 0 9\n",
      "55 9 1 9\n",
      "56 9 2 9\n",
      "57 9 3 9\n",
      "58 9 4 9\n",
      "59 9 5 9\n",
      "60 10 0 10\n",
      "61 10 1 10\n",
      "62 10 2 10\n",
      "63 10 3 10\n",
      "64 10 4 10\n",
      "65 10 5 10\n",
      "66 11 0 11\n",
      "67 11 1 11\n",
      "68 11 2 11\n",
      "69 11 3 11\n",
      "70 11 4 11\n",
      "71 11 5 11\n",
      "72 12 0 12\n",
      "73 12 1 12\n",
      "74 12 2 12\n",
      "75 12 3 12\n",
      "76 12 4 12\n",
      "77 12 5 12\n",
      "78 13 0 13\n",
      "79 13 1 13\n",
      "80 13 2 13\n",
      "81 13 3 13\n",
      "82 13 4 13\n",
      "83 13 5 13\n",
      "84 14 0 14\n",
      "85 14 1 14\n",
      "86 14 2 14\n",
      "87 14 3 14\n",
      "88 14 4 14\n",
      "89 14 5 14\n",
      "90 15 0 15\n",
      "91 15 1 15\n",
      "92 15 2 15\n",
      "93 15 3 15\n",
      "94 15 4 15\n",
      "95 15 5 15\n"
     ]
    }
   ],
   "source": [
    "for i in range( 96 ):\n",
    "    print i, i // 6, i % 6, i / 6 "
   ]
  },
  {
   "cell_type": "code",
   "execution_count": 11,
   "metadata": {
    "collapsed": true
   },
   "outputs": [],
   "source": [
    "p.spread?"
   ]
  },
  {
   "cell_type": "code",
   "execution_count": 12,
   "metadata": {
    "collapsed": false
   },
   "outputs": [
    {
     "data": {
      "text/plain": [
       "{}"
      ]
     },
     "execution_count": 12,
     "metadata": {},
     "output_type": "execute_result"
    }
   ],
   "source": [
    "p.refs"
   ]
  },
  {
   "cell_type": "code",
   "execution_count": 14,
   "metadata": {
    "collapsed": false
   },
   "outputs": [
    {
     "name": "stdout",
     "output_type": "stream",
     "text": [
      "<class 'autoprotocol.container.Container'>\n"
     ]
    }
   ],
   "source": [
    "print type( p.ref( 'my_plate', None, '96-deep', discard=True ) )"
   ]
  },
  {
   "cell_type": "code",
   "execution_count": 19,
   "metadata": {
    "collapsed": false
   },
   "outputs": [
    {
     "data": {
      "text/plain": [
       "Well(Container(my_plate), 0, None)"
      ]
     },
     "execution_count": 19,
     "metadata": {},
     "output_type": "execute_result"
    }
   ],
   "source": [
    "p.refs[ 'my_plate' ].container.well( 0 ) "
   ]
  },
  {
   "cell_type": "code",
   "execution_count": 20,
   "metadata": {
    "collapsed": true
   },
   "outputs": [],
   "source": [
    "p.image_plate?"
   ]
  },
  {
   "cell_type": "code",
   "execution_count": 22,
   "metadata": {
    "collapsed": false
   },
   "outputs": [],
   "source": [
    "my_plate = p.refs[ 'my_plate' ] "
   ]
  },
  {
   "cell_type": "code",
   "execution_count": 25,
   "metadata": {
    "collapsed": false
   },
   "outputs": [
    {
     "ename": "TypeError",
     "evalue": "'str' object is not callable",
     "output_type": "error",
     "traceback": [
      "\u001b[0;31m---------------------------------------------------------------------------\u001b[0m",
      "\u001b[0;31mTypeError\u001b[0m                                 Traceback (most recent call last)",
      "\u001b[0;32m<ipython-input-25-7d79ba36072b>\u001b[0m in \u001b[0;36m<module>\u001b[0;34m()\u001b[0m\n\u001b[0;32m----> 1\u001b[0;31m \u001b[0mmy_plate\u001b[0m\u001b[0;34m.\u001b[0m\u001b[0mcontainer\u001b[0m\u001b[0;34m.\u001b[0m\u001b[0mname\u001b[0m\u001b[0;34m(\u001b[0m\u001b[0;34m)\u001b[0m\u001b[0;34m\u001b[0m\u001b[0m\n\u001b[0m",
      "\u001b[0;31mTypeError\u001b[0m: 'str' object is not callable"
     ]
    }
   ],
   "source": [
    "my_plate.container.name()"
   ]
  },
  {
   "cell_type": "code",
   "execution_count": null,
   "metadata": {
    "collapsed": true
   },
   "outputs": [],
   "source": []
  }
 ],
 "metadata": {
  "kernelspec": {
   "display_name": "Python 2",
   "language": "python",
   "name": "python2"
  },
  "language_info": {
   "codemirror_mode": {
    "name": "ipython",
    "version": 2
   },
   "file_extension": ".py",
   "mimetype": "text/x-python",
   "name": "python",
   "nbconvert_exporter": "python",
   "pygments_lexer": "ipython2",
   "version": "2.7.11"
  }
 },
 "nbformat": 4,
 "nbformat_minor": 0
}
