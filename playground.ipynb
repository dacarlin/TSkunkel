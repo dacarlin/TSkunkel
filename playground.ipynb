{
 "cells": [
  {
   "cell_type": "code",
   "execution_count": 6,
   "metadata": {
    "collapsed": false
   },
   "outputs": [],
   "source": [
    "import json \n",
    "\n",
    "with open ( 'manifest.json' ) as fn:\n",
    "    j = json.load( fn )\n",
    "    "
   ]
  },
  {
   "cell_type": "code",
   "execution_count": 14,
   "metadata": {
    "collapsed": false
   },
   "outputs": [
    {
     "name": "stdout",
     "output_type": "stream",
     "text": [
      "{\n",
      "  \"refs\": {\n",
      "    \"ssDNA_source\": {\n",
      "      \"type\": \"micro-2.0\", \n",
      "      \"store\": \"cold_20\", \n",
      "      \"aliquots\": {\n",
      "        \"0\": {\n",
      "          \"volume\": \"1000:microliter\"\n",
      "        }\n",
      "      }\n",
      "    }\n",
      "  }, \n",
      "  \"parameters\": {\n",
      "    \"construct_setup\": {\n",
      "      \"growth_media\": \"lb-broth-100ug-ml-specto\", \n",
      "      \"ssDNA\": \"ssDNA_source/0\", \n",
      "      \"mutant_upload\": [\n",
      "        {\n",
      "          \"oligo_label\": \"oligo_1\", \n",
      "          \"scale\": \"25nm\", \n",
      "          \"sequence\": \"agagagagagagagagagagagagagagag\", \n",
      "          \"mutant_label\": \"mutant_1\", \n",
      "          \"purification\": \"standard\"\n",
      "        }, \n",
      "        {\n",
      "          \"oligo_label\": \"oligo_2\", \n",
      "          \"scale\": \"25nm\", \n",
      "          \"sequence\": \"agagagagagagagagagagagagagagagtt\", \n",
      "          \"mutant_label\": \"mutant_1\", \n",
      "          \"purification\": \"standard\"\n",
      "        }, \n",
      "        {\n",
      "          \"oligo_label\": \"oligo_2\", \n",
      "          \"scale\": \"25nm\", \n",
      "          \"sequence\": \"agagagagagagagagagagagagagagagtt\", \n",
      "          \"mutant_label\": \"mutant_2\", \n",
      "          \"purification\": \"standard\"\n",
      "        }\n",
      "      ]\n",
      "    }\n",
      "  }\n",
      "}\n"
     ]
    }
   ],
   "source": [
    "print json.dumps( j['protocols'][0]['preview'], indent=2 )"
   ]
  },
  {
   "cell_type": "code",
   "execution_count": null,
   "metadata": {
    "collapsed": true
   },
   "outputs": [],
   "source": []
  }
 ],
 "metadata": {
  "kernelspec": {
   "display_name": "Python 2",
   "language": "python",
   "name": "python2"
  },
  "language_info": {
   "codemirror_mode": {
    "name": "ipython",
    "version": 2
   },
   "file_extension": ".py",
   "mimetype": "text/x-python",
   "name": "python",
   "nbconvert_exporter": "python",
   "pygments_lexer": "ipython2",
   "version": "2.7.11"
  }
 },
 "nbformat": 4,
 "nbformat_minor": 0
}
