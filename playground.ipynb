{
 "cells": [
  {
   "cell_type": "code",
   "execution_count": 6,
   "metadata": {
    "collapsed": false
   },
   "outputs": [],
   "source": [
    "from autoprotocol import Protocol\n",
    "\n",
    "p = Protocol()\n",
    "\n",
    "p.transfer?"
   ]
  },
  {
   "cell_type": "code",
   "execution_count": 7,
   "metadata": {
    "collapsed": false
   },
   "outputs": [],
   "source": [
    "from datetime import datetime\n",
    "\n",
    "datetime?"
   ]
  },
  {
   "cell_type": "code",
   "execution_count": 11,
   "metadata": {
    "collapsed": false
   },
   "outputs": [
    {
     "data": {
      "text/plain": [
       "[{'destination': 'protocol.ref( o, None, \"micro-2.0\", storage=\"cold_4\").well( 0 )',\n",
       "  'scale': '25nm',\n",
       "  'sequence': 'atgcgatgctagctagcgcgatcgcta'},\n",
       " {'destination': 'protocol.ref( o, None, \"micro-2.0\", storage=\"cold_4\").well( 0 )',\n",
       "  'scale': '25nm',\n",
       "  'sequence': 'cgcgagcgcgcgcgaggggggggcgagcggag'}]"
      ]
     },
     "execution_count": 11,
     "metadata": {},
     "output_type": "execute_result"
    }
   ],
   "source": [
    "mutants = [\n",
    "    {\n",
    "        'mutant_name': 'jeff',\n",
    "        'ssDNA': None,\n",
    "        'oligos': [\n",
    "            'atgcgatgctagctagcgcgatcgcta',\n",
    "            'atgcgatgctagctagcgcgatcgcta',\n",
    "        ]\n",
    "    },\n",
    "    {\n",
    "        'mutant_name': 'geoff',\n",
    "        'ssDNA': None,\n",
    "        'oligos': [\n",
    "            'atgcgatgctagctagcgcgatcgcta',\n",
    "            'atgcgatgctagctagcgcgatcgcta',\n",
    "            'cgcgagcgcgcgcgaggggggggcgagcggag'\n",
    "     ]\n",
    "  }\n",
    "]\n",
    "\n",
    "oligos = set([ o for o in m['oligos'] for m in mutants ])\n",
    "oligo_order = [ dict(sequence=o, scale='25nm', destination='protocol.ref( o, None, \"micro-2.0\", storage=\"cold_4\").well( 0 )') for o in oligos ]\n",
    "oligo_order"
   ]
  },
  {
   "cell_type": "code",
   "execution_count": 14,
   "metadata": {
    "collapsed": false
   },
   "outputs": [
    {
     "name": "stdout",
     "output_type": "stream",
     "text": [
      "jeff\n",
      "atgcgatgctagctagcgcgatcgcta\n",
      "atgcgatgctagctagcgcgatcgcta\n",
      "geoff\n",
      "atgcgatgctagctagcgcgatcgcta\n",
      "atgcgatgctagctagcgcgatcgcta\n",
      "cgcgagcgcgcgcgaggggggggcgagcggag\n"
     ]
    }
   ],
   "source": [
    "for mutant in mutants:\n",
    "    print mutant['mutant_name']\n",
    "    for oligo in mutant['oligos']:\n",
    "        print oligo "
   ]
  },
  {
   "cell_type": "code",
   "execution_count": 7,
   "metadata": {
    "collapsed": true
   },
   "outputs": [],
   "source": [
    "p.oligosynthesize?"
   ]
  },
  {
   "cell_type": "code",
   "execution_count": null,
   "metadata": {
    "collapsed": true
   },
   "outputs": [],
   "source": []
  }
 ],
 "metadata": {
  "kernelspec": {
   "display_name": "Python 2",
   "language": "python",
   "name": "python2"
  },
  "language_info": {
   "codemirror_mode": {
    "name": "ipython",
    "version": 2
   },
   "file_extension": ".py",
   "mimetype": "text/x-python",
   "name": "python",
   "nbconvert_exporter": "python",
   "pygments_lexer": "ipython2",
   "version": "2.7.11"
  }
 },
 "nbformat": 4,
 "nbformat_minor": 0
}
